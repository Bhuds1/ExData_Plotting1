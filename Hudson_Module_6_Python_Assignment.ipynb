{
  "nbformat": 4,
  "nbformat_minor": 0,
  "metadata": {
    "colab": {
      "name": "Hudson Module 6 Python Assignment.ipynb",
      "version": "0.3.2",
      "provenance": [],
      "collapsed_sections": [],
      "include_colab_link": true
    },
    "kernelspec": {
      "display_name": "Python 3",
      "language": "python",
      "name": "python3"
    }
  },
  "cells": [
    {
      "cell_type": "markdown",
      "metadata": {
        "id": "view-in-github",
        "colab_type": "text"
      },
      "source": [
        "<a href=\"https://colab.research.google.com/github/Bhuds1/ExData_Plotting1/blob/master/Hudson_Module_6_Python_Assignment.ipynb\" target=\"_parent\"><img src=\"https://colab.research.google.com/assets/colab-badge.svg\" alt=\"Open In Colab\"/></a>"
      ]
    },
    {
      "metadata": {
        "id": "sWx5W1NEllDH",
        "colab_type": "text"
      },
      "cell_type": "markdown",
      "source": [
        "# MSDS 430 Module 6 Python Assignment [Needs to be finalized]"
      ]
    },
    {
      "metadata": {
        "id": "os3y6MZvllDI",
        "colab_type": "text"
      },
      "cell_type": "markdown",
      "source": [
        "#### In this assignment you will complete the following exercises and submit your notebook (ipynb file) to Canvas. Your file should include all output, i.e. run each cell and save your file before submitting."
      ]
    },
    {
      "metadata": {
        "id": "wXNXteGdllDI",
        "colab_type": "text"
      },
      "cell_type": "markdown",
      "source": [
        "Problem 1 (8 pts.): Create a table that has 15 pay grades (rows) and within each pay grade are 10 steps (columns). Grade 1 step 1 starts at $21,885. Each step in a pay grade increases by 1.4 percent from the previous step. Each pay grade increases by 4.3 percent from step 1 in the previous grade. Label each row and column appropriately. Print the table and write to a file. Use integer values only."
      ]
    },
    {
      "metadata": {
        "id": "ToYjQzzOllDJ",
        "colab_type": "code",
        "colab": {
          "base_uri": "https://localhost:8080/",
          "height": 598
        },
        "outputId": "78cdf654-2505-4ad3-9e05-4eba4eba517b"
      },
      "cell_type": "code",
      "source": [
        "def sal_tab(salary = 21885.00, step = 10, grade = 15):\n",
        "  y = salary\n",
        "  for i in range (1,step +1):\n",
        "    print('\\t', end =\"\")\n",
        "    print(f'Step {i}', \"\\t\", end = \"\")\n",
        "  print('\\n')  \n",
        "  for x in range (1, grade +1):\n",
        "    print(\"\\n\")\n",
        "    print(f'Grade{x}', end = \"\")\n",
        "    new_salary = y * 1.043\n",
        "  \n",
        "    for z in range(1, 11):\n",
        "      #y = new_salary\n",
        "      print(\"\\t\", \"%.2f\"%y, end = \"\")\n",
        "      y = y + y*(.014)\n",
        "    y = new_salary\n",
        "    \n",
        "homework = sal_tab()"
      ],
      "execution_count": 16,
      "outputs": [
        {
          "output_type": "stream",
          "text": [
            "\tStep 1 \t\tStep 2 \t\tStep 3 \t\tStep 4 \t\tStep 5 \t\tStep 6 \t\tStep 7 \t\tStep 8 \t\tStep 9 \t\tStep 10 \t\n",
            "\n",
            "\n",
            "\n",
            "Grade1\t 21885.00\t 22191.39\t 22502.07\t 22817.10\t 23136.54\t 23460.45\t 23788.90\t 24121.94\t 24459.65\t 24802.08\n",
            "\n",
            "Grade2\t 22826.05\t 23145.62\t 23469.66\t 23798.23\t 24131.41\t 24469.25\t 24811.82\t 25159.18\t 25511.41\t 25868.57\n",
            "\n",
            "Grade3\t 23807.58\t 24140.88\t 24478.85\t 24821.56\t 25169.06\t 25521.43\t 25878.73\t 26241.03\t 26608.40\t 26980.92\n",
            "\n",
            "Grade4\t 24831.30\t 25178.94\t 25531.44\t 25888.88\t 26251.33\t 26618.85\t 26991.51\t 27369.39\t 27752.56\t 28141.10\n",
            "\n",
            "Grade5\t 25899.05\t 26261.63\t 26629.30\t 27002.11\t 27380.14\t 27763.46\t 28152.15\t 28546.28\t 28945.92\t 29351.17\n",
            "\n",
            "Grade6\t 27012.71\t 27390.88\t 27774.36\t 28163.20\t 28557.48\t 28957.29\t 29362.69\t 29773.77\t 30190.60\t 30613.27\n",
            "\n",
            "Grade7\t 28174.25\t 28568.69\t 28968.65\t 29374.21\t 29785.45\t 30202.45\t 30625.28\t 31054.04\t 31488.79\t 31929.64\n",
            "\n",
            "Grade8\t 29385.75\t 29797.15\t 30214.31\t 30637.31\t 31066.23\t 31501.16\t 31942.17\t 32389.36\t 32842.81\t 33302.61\n",
            "\n",
            "Grade9\t 30649.33\t 31078.42\t 31513.52\t 31954.71\t 32402.08\t 32855.71\t 33315.69\t 33782.10\t 34255.05\t 34734.62\n",
            "\n",
            "Grade10\t 31967.25\t 32414.80\t 32868.60\t 33328.76\t 33795.37\t 34268.50\t 34748.26\t 35234.74\t 35728.02\t 36228.21\n",
            "\n",
            "Grade11\t 33341.85\t 33808.63\t 34281.95\t 34761.90\t 35248.57\t 35742.05\t 36242.43\t 36749.83\t 37264.33\t 37786.03\n",
            "\n",
            "Grade12\t 34775.54\t 35262.40\t 35756.08\t 36256.66\t 36764.25\t 37278.95\t 37800.86\t 38330.07\t 38866.69\t 39410.83\n",
            "\n",
            "Grade13\t 36270.89\t 36778.69\t 37293.59\t 37815.70\t 38345.12\t 38881.95\t 39426.30\t 39978.26\t 40537.96\t 41105.49\n",
            "\n",
            "Grade14\t 37830.54\t 38360.17\t 38897.21\t 39441.77\t 39993.96\t 40553.87\t 41121.63\t 41697.33\t 42281.09\t 42873.03\n",
            "\n",
            "Grade15\t 39457.26\t 40009.66\t 40569.79\t 41137.77\t 41713.70\t 42297.69\t 42889.86\t 43490.32\t 44099.18\t 44716.57"
          ],
          "name": "stdout"
        }
      ]
    },
    {
      "metadata": {
        "id": "lLJ0PxdmllDM",
        "colab_type": "text"
      },
      "cell_type": "markdown",
      "source": [
        "Problem 2 (8 pts.): Use the file pitching_stats.csv for this problem. Read the data and calculate the ERA for the top ten pitchers. ERA = (earned runs*9)/(innings pitched). Print out a table with the pitcher's name, team, earned runs, innings pitched, and ERA (rounded to two decimals). Label columns appropriately."
      ]
    },
    {
      "metadata": {
        "id": "fyqDso67llDM",
        "colab_type": "code",
        "colab": {}
      },
      "cell_type": "code",
      "source": [
        "from google.colab import files\n",
        "import pandas as pd\n"
      ],
      "execution_count": 0,
      "outputs": []
    },
    {
      "metadata": {
        "id": "hxPPAAOlXbC1",
        "colab_type": "code",
        "colab": {
          "resources": {
            "http://localhost:8080/nbextensions/google.colab/files.js": {
              "data": "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",
              "ok": true,
              "headers": [
                [
                  "content-type",
                  "application/javascript"
                ]
              ],
              "status": 200,
              "status_text": ""
            }
          },
          "base_uri": "https://localhost:8080/",
          "height": 69
        },
        "outputId": "0b7dbb20-b202-49aa-c88f-0e4645c8ed93"
      },
      "cell_type": "code",
      "source": [
        "uploaded = files.upload()"
      ],
      "execution_count": 36,
      "outputs": [
        {
          "output_type": "display_data",
          "data": {
            "text/html": [
              "\n",
              "     <input type=\"file\" id=\"files-bec7c0a7-6739-4f4e-80aa-53f1751cff5f\" name=\"files[]\" multiple disabled />\n",
              "     <output id=\"result-bec7c0a7-6739-4f4e-80aa-53f1751cff5f\">\n",
              "      Upload widget is only available when the cell has been executed in the\n",
              "      current browser session. Please rerun this cell to enable.\n",
              "      </output>\n",
              "      <script src=\"/nbextensions/google.colab/files.js\"></script> "
            ],
            "text/plain": [
              "<IPython.core.display.HTML object>"
            ]
          },
          "metadata": {
            "tags": []
          }
        },
        {
          "output_type": "stream",
          "text": [
            "Saving pitching_stats.csv to pitching_stats (1).csv\n"
          ],
          "name": "stdout"
        }
      ]
    },
    {
      "metadata": {
        "id": "yv_Byv4TXUUX",
        "colab_type": "code",
        "colab": {
          "base_uri": "https://localhost:8080/",
          "height": 359
        },
        "outputId": "fdd25f7b-eacb-4422-a462-f351d3a12257"
      },
      "cell_type": "code",
      "source": [
        "files.download('pitching_stats.csv')\n",
        "file = pd.read_csv('pitching_stats.csv')\n",
        "file['ERA'] = file['ER']*9/file['IP']   #calculate ERA\n",
        "file['ERA'] = file['ERA'].round(2)   #round to 2 places\n",
        "df = file.drop(['rank'], axis = 1) #drop rank column\n",
        "df = df[['name', 'team', 'ER', 'IP', 'ERA']]  #reorder columns to fit problem\n",
        "df"
      ],
      "execution_count": 38,
      "outputs": [
        {
          "output_type": "execute_result",
          "data": {
            "text/html": [
              "<div>\n",
              "<style scoped>\n",
              "    .dataframe tbody tr th:only-of-type {\n",
              "        vertical-align: middle;\n",
              "    }\n",
              "\n",
              "    .dataframe tbody tr th {\n",
              "        vertical-align: top;\n",
              "    }\n",
              "\n",
              "    .dataframe thead th {\n",
              "        text-align: right;\n",
              "    }\n",
              "</style>\n",
              "<table border=\"1\" class=\"dataframe\">\n",
              "  <thead>\n",
              "    <tr style=\"text-align: right;\">\n",
              "      <th></th>\n",
              "      <th>name</th>\n",
              "      <th>team</th>\n",
              "      <th>ER</th>\n",
              "      <th>IP</th>\n",
              "      <th>ERA</th>\n",
              "    </tr>\n",
              "  </thead>\n",
              "  <tbody>\n",
              "    <tr>\n",
              "      <th>0</th>\n",
              "      <td>DeGrom, J</td>\n",
              "      <td>NYM</td>\n",
              "      <td>32</td>\n",
              "      <td>159.0</td>\n",
              "      <td>1.81</td>\n",
              "    </tr>\n",
              "    <tr>\n",
              "      <th>1</th>\n",
              "      <td>Sale, C</td>\n",
              "      <td>BOS</td>\n",
              "      <td>32</td>\n",
              "      <td>146.0</td>\n",
              "      <td>1.97</td>\n",
              "    </tr>\n",
              "    <tr>\n",
              "      <th>2</th>\n",
              "      <td>Snell, B</td>\n",
              "      <td>TB</td>\n",
              "      <td>31</td>\n",
              "      <td>133.0</td>\n",
              "      <td>2.10</td>\n",
              "    </tr>\n",
              "    <tr>\n",
              "      <th>3</th>\n",
              "      <td>Scherzer, M</td>\n",
              "      <td>WSH</td>\n",
              "      <td>41</td>\n",
              "      <td>174.2</td>\n",
              "      <td>2.12</td>\n",
              "    </tr>\n",
              "    <tr>\n",
              "      <th>4</th>\n",
              "      <td>Bauer, T</td>\n",
              "      <td>CLE</td>\n",
              "      <td>41</td>\n",
              "      <td>166.0</td>\n",
              "      <td>2.22</td>\n",
              "    </tr>\n",
              "    <tr>\n",
              "      <th>5</th>\n",
              "      <td>Nola, A</td>\n",
              "      <td>PHI</td>\n",
              "      <td>40</td>\n",
              "      <td>161.0</td>\n",
              "      <td>2.24</td>\n",
              "    </tr>\n",
              "    <tr>\n",
              "      <th>6</th>\n",
              "      <td>Verlander, J</td>\n",
              "      <td>HOU</td>\n",
              "      <td>46</td>\n",
              "      <td>164.1</td>\n",
              "      <td>2.52</td>\n",
              "    </tr>\n",
              "    <tr>\n",
              "      <th>7</th>\n",
              "      <td>Kluber, C</td>\n",
              "      <td>CLE</td>\n",
              "      <td>50</td>\n",
              "      <td>168.0</td>\n",
              "      <td>2.68</td>\n",
              "    </tr>\n",
              "    <tr>\n",
              "      <th>8</th>\n",
              "      <td>Cole, G</td>\n",
              "      <td>HOU</td>\n",
              "      <td>48</td>\n",
              "      <td>159.2</td>\n",
              "      <td>2.71</td>\n",
              "    </tr>\n",
              "    <tr>\n",
              "      <th>9</th>\n",
              "      <td>Morton, C</td>\n",
              "      <td>HOU</td>\n",
              "      <td>45</td>\n",
              "      <td>142.1</td>\n",
              "      <td>2.85</td>\n",
              "    </tr>\n",
              "  </tbody>\n",
              "</table>\n",
              "</div>"
            ],
            "text/plain": [
              "           name team  ER     IP   ERA\n",
              "0     DeGrom, J  NYM  32  159.0  1.81\n",
              "1       Sale, C  BOS  32  146.0  1.97\n",
              "2      Snell, B   TB  31  133.0  2.10\n",
              "3   Scherzer, M  WSH  41  174.2  2.12\n",
              "4      Bauer, T  CLE  41  166.0  2.22\n",
              "5       Nola, A  PHI  40  161.0  2.24\n",
              "6  Verlander, J  HOU  46  164.1  2.52\n",
              "7     Kluber, C  CLE  50  168.0  2.68\n",
              "8       Cole, G  HOU  48  159.2  2.71\n",
              "9     Morton, C  HOU  45  142.1  2.85"
            ]
          },
          "metadata": {
            "tags": []
          },
          "execution_count": 38
        }
      ]
    },
    {
      "metadata": {
        "id": "qt3bBZ4XllDO",
        "colab_type": "text"
      },
      "cell_type": "markdown",
      "source": [
        "Problem 3 (6 pts): Write a program that creates a table with two columns. Label the first column 'n' and the second column 'Prime or not?' Your table should list integers 2 through 50 and display 'True' if the number is prime and 'False' if the number is not prime."
      ]
    },
    {
      "metadata": {
        "id": "jcP5q8WhllDP",
        "colab_type": "code",
        "colab": {
          "base_uri": "https://localhost:8080/",
          "height": 884
        },
        "outputId": "f7a480b1-adbd-4215-beb9-cbae7b68d2e4"
      },
      "cell_type": "code",
      "source": [
        "num = 50\n",
        "prime = True\n",
        "print('n', \"\\t\", 'Prime or not?')\n",
        "print('____', '\\t', '____________')\n",
        "for i in range(2, num +1):\n",
        "  for x in range(2, i):\n",
        "    if i % x == 0:\n",
        "      prime = False\n",
        "      break\n",
        "    else:\n",
        "      prime = True\n",
        "  \n",
        "  print(i, '\\t', prime)\n",
        "    "
      ],
      "execution_count": 17,
      "outputs": [
        {
          "output_type": "stream",
          "text": [
            "n \t Prime or not?\n",
            "____ \t ____________\n",
            "2 \t True\n",
            "3 \t True\n",
            "4 \t False\n",
            "5 \t True\n",
            "6 \t False\n",
            "7 \t True\n",
            "8 \t False\n",
            "9 \t False\n",
            "10 \t False\n",
            "11 \t True\n",
            "12 \t False\n",
            "13 \t True\n",
            "14 \t False\n",
            "15 \t False\n",
            "16 \t False\n",
            "17 \t True\n",
            "18 \t False\n",
            "19 \t True\n",
            "20 \t False\n",
            "21 \t False\n",
            "22 \t False\n",
            "23 \t True\n",
            "24 \t False\n",
            "25 \t False\n",
            "26 \t False\n",
            "27 \t False\n",
            "28 \t False\n",
            "29 \t True\n",
            "30 \t False\n",
            "31 \t True\n",
            "32 \t False\n",
            "33 \t False\n",
            "34 \t False\n",
            "35 \t False\n",
            "36 \t False\n",
            "37 \t True\n",
            "38 \t False\n",
            "39 \t False\n",
            "40 \t False\n",
            "41 \t True\n",
            "42 \t False\n",
            "43 \t True\n",
            "44 \t False\n",
            "45 \t False\n",
            "46 \t False\n",
            "47 \t True\n",
            "48 \t False\n",
            "49 \t False\n",
            "50 \t False\n"
          ],
          "name": "stdout"
        }
      ]
    },
    {
      "metadata": {
        "id": "FtTGxP9CEVZ8",
        "colab_type": "code",
        "colab": {}
      },
      "cell_type": "code",
      "source": [
        ""
      ],
      "execution_count": 0,
      "outputs": []
    }
  ]
}